{
 "cells": [
  {
   "cell_type": "code",
   "execution_count": null,
   "metadata": {},
   "outputs": [],
   "source": [
    "# This is a sample ipynb file"
   ]
  },
  {
   "cell_type": "markdown",
   "metadata": {},
   "source": [
    "This is a sample file for Python notebook"
   ]
  },
  {
   "cell_type": "code",
   "execution_count": null,
   "metadata": {},
   "outputs": [],
   "source": [
    "# Third party packages.\n",
    "import pandas as pd             # Data handling\n",
    "import numpy as np              # Numeric calculations\n",
    "import pickle                   # Save and load data\n",
    "import altair as alt            # Visualize data\n",
    "import seaborn as sns           # Visualize data\n",
    "import matplotlib.pyplot as plt # Visualize data\n",
    "\n",
    "# rom scipy.stats import pearsonr # Correlation\n",
    "\n",
    "# Pieter's utils package.\n",
    "# from utils_pieter import f_heatmap, f_plot_scatter_with_trend_grid"
   ]
  }
 ],
 "metadata": {
  "language_info": {
   "name": "python"
  }
 },
 "nbformat": 4,
 "nbformat_minor": 2
}
